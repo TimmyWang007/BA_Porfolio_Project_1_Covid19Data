{
 "cells": [
  {
   "cell_type": "code",
   "execution_count": 49,
   "outputs": [],
   "source": [
    "from requests import Request, Session\n",
    "from requests.exceptions import ConnectionError, Timeout, TooManyRedirects\n",
    "import json\n",
    "import pandas as pd\n",
    "\n",
    "url = 'https://pro-api.coinmarketcap.com/v1/cryptocurrency/listings/latest'\n",
    "parameters = {\n",
    "  'start':'1',\n",
    "  'limit':'15',\n",
    "  'convert':'USD'\n",
    "}\n",
    "headers = {\n",
    "  'Accepts': 'application/json',\n",
    "  'X-CMC_PRO_API_KEY': '33aea596-c86f-4520-81b1-abb02be3e8a3',\n",
    "}\n",
    "\n",
    "session = Session()\n",
    "session.headers.update(headers)\n",
    "\n",
    "try:\n",
    "  response = session.get(url, params=parameters)\n",
    "  #print(response.text)\n",
    "  data = json.loads(response.text)\n",
    "  #print(data)\n",
    "except (ConnectionError, Timeout, TooManyRedirects) as e:\n",
    "  print(e)\n",
    "\n",
    "\n",
    "# (ssl.c:1129) may occur\n",
    "#  reason might be clash for windows doesn't support https proxy,\n",
    "# while urllib3 version 1.26.7 will directly deliver https proxy to clash\n",
    "# the previous version will change https to http (doesn't support https)\n",
    "# solution: reinstall the urllib version=<1.25\n",
    "# pip install urllib3==1.25.7 (turn out can't find hostname because of proxyhost is open, need to turn of proxyhost in internet setting)\n",
    "# turn proxyhost back on for connect api server\n",
    "# (ssl.c:1229) solved\n",
    "\n",
    "# exceed data limit may occur\n",
    "# Put \"jupyter notebook --NotebookApp.iopub_data_rate_limit=1000000000\"\n",
    "# Into the Anaconda Prompt to change this to allow to pull data(too much data for orginal setting)\n",
    "#Anaconde Prompt will return a new jupyter local host url with token, configure Pycharm to use new jupter host sevrer\n",
    "# problem solved"
   ],
   "metadata": {
    "collapsed": false,
    "pycharm": {
     "name": "#%%\n"
    }
   }
  },
  {
   "cell_type": "markdown",
   "source": [],
   "metadata": {
    "collapsed": false,
    "pycharm": {
     "name": "#%% md\n"
    }
   }
  },
  {
   "cell_type": "code",
   "execution_count": 2,
   "outputs": [],
   "source": [
    "import pandas as pd"
   ],
   "metadata": {
    "collapsed": false,
    "pycharm": {
     "name": "#%%\n"
    }
   }
  },
  {
   "cell_type": "code",
   "execution_count": 51,
   "outputs": [],
   "source": [
    "df = pd.json_normalize(data['data'])\n",
    "\n",
    "# data is a dictionary with two keys 'status' and 'data', only need 'data'"
   ],
   "metadata": {
    "collapsed": false,
    "pycharm": {
     "name": "#%%\n"
    }
   }
  },
  {
   "cell_type": "markdown",
   "source": [
    "##Add timestamp"
   ],
   "metadata": {
    "collapsed": false,
    "pycharm": {
     "name": "#%% md\n"
    }
   }
  },
  {
   "cell_type": "code",
   "execution_count": 52,
   "outputs": [],
   "source": [
    "df['timtstamp'] = pd.to_datetime('now')"
   ],
   "metadata": {
    "collapsed": false,
    "pycharm": {
     "name": "#%%\n"
    }
   }
  },
  {
   "cell_type": "code",
   "execution_count": null,
   "outputs": [],
   "source": [
    "df"
   ],
   "metadata": {
    "collapsed": false,
    "pycharm": {
     "name": "#%%\n",
     "is_executing": true
    }
   }
  },
  {
   "cell_type": "code",
   "execution_count": 54,
   "outputs": [],
   "source": [
    "def api_runner():\n",
    "  global df\n",
    "  url = 'https://pro-api.coinmarketcap.com/v1/cryptocurrency/listings/latest'\n",
    "  parameters = {\n",
    "    'start':'1',\n",
    "    'limit':'15',\n",
    "    'convert':'USD'\n",
    "  }\n",
    "  headers = {\n",
    "    'Accepts': 'application/json',\n",
    "    'X-CMC_PRO_API_KEY': '33aea596-c86f-4520-81b1-abb02be3e8a3',\n",
    "  }\n",
    "\n",
    "  session = Session()\n",
    "  session.headers.update(headers)\n",
    "\n",
    "  try:\n",
    "    response = session.get(url, params=parameters)\n",
    "    data = json.loads(response.text)\n",
    "  #  print(data)\n",
    "  except (ConnectionError, Timeout, TooManyRedirects) as e:\n",
    "    print(e)\n",
    "\n",
    "  df2 = pd.json_normalize(data['data'])\n",
    "  df2['timestamp'] = pd.to_datetime('now')\n",
    "  df = df.append(df2)"
   ],
   "metadata": {
    "collapsed": false,
    "pycharm": {
     "name": "#%%\n"
    }
   }
  },
  {
   "cell_type": "code",
   "execution_count": null,
   "outputs": [],
   "source": [
    "import os\n",
    "from time import time\n",
    "from time import sleep\n",
    "\n",
    "for i in range(333):\n",
    "    api_runner()\n",
    "    print('API Runner completed')\n",
    "    sleep(60) #sleep for 1 minute\n",
    "exit()"
   ],
   "metadata": {
    "collapsed": false,
    "pycharm": {
     "name": "#%%\n",
     "is_executing": true
    }
   }
  },
  {
   "cell_type": "markdown",
   "source": [],
   "metadata": {
    "collapsed": false,
    "pycharm": {
     "name": "#%% md\n"
    }
   }
  },
  {
   "cell_type": "code",
   "execution_count": null,
   "outputs": [],
   "source": [
    "df"
   ],
   "metadata": {
    "collapsed": false,
    "pycharm": {
     "name": "#%%\n",
     "is_executing": true
    }
   }
  },
  {
   "cell_type": "code",
   "execution_count": 57,
   "outputs": [
    {
     "data": {
      "text/plain": "                 quote.USD.percent_change_1h  quote.USD.percent_change_24h  \\\nname                                                                         \nBitcoin                             0.060866                      2.077694   \nEthereum                            0.459463                      2.014182   \nTether                              0.008892                      0.023389   \nUSD Coin                            0.006646                      0.011462   \nBNB                                 0.288144                      3.877582   \nCardano                             0.652376                      7.368791   \nXRP                                 0.454588                      2.230352   \nBinance USD                        -0.017253                     -0.101141   \nSolana                              0.574736                      2.025101   \nDogecoin                            0.113616                      0.158830   \nPolkadot                            0.411691                      0.698222   \nWrapped Bitcoin                     0.042350                      2.230076   \nTRON                               -0.321350                     -0.359754   \nDai                                 0.012808                     -0.006746   \nAvalanche                           0.122245                      1.156280   \n\n                 quote.USD.percent_change_7d  quote.USD.percent_change_30d  \\\nname                                                                         \nBitcoin                            -1.169541                     -5.839647   \nEthereum                           -3.972286                    -23.659843   \nTether                              0.021391                     -0.061020   \nUSD Coin                            0.019577                      0.026197   \nBNB                                -4.766839                     -9.884183   \nCardano                            14.390508                      0.368373   \nXRP                                -1.614569                    -23.441696   \nBinance USD                         0.024734                      0.059308   \nSolana                             -7.803697                    -43.126470   \nDogecoin                           -5.133915                    -29.810838   \nPolkadot                           -9.604233                    -20.749810   \nWrapped Bitcoin                    -0.974006                     -5.653441   \nTRON                               -9.047512                      4.512224   \nDai                                 0.132098                      0.106643   \nAvalanche                          -1.537192                    -48.019639   \n\n                 quote.USD.percent_change_60d  quote.USD.percent_change_90d  \nname                                                                         \nBitcoin                            -28.089743                    -22.322186  \nEthereum                           -43.612423                    -30.102656  \nTether                              -0.094364                     -0.104533  \nUSD Coin                             0.040642                      0.069170  \nBNB                                -30.860041                    -20.181185  \nCardano                            -35.627558                    -17.647782  \nXRP                                -46.902162                    -44.943706  \nBinance USD                          0.032417                      0.056730  \nSolana                             -63.787973                    -51.526001  \nDogecoin                           -44.007935                    -31.533389  \nPolkadot                           -53.238252                    -45.971296  \nWrapped Bitcoin                    -28.074527                    -22.146047  \nTRON                                29.072707                     37.695409  \nDai                                  0.082212                      0.063644  \nAvalanche                          -70.269982                    -66.246310  ",
      "text/html": "<div>\n<style scoped>\n    .dataframe tbody tr th:only-of-type {\n        vertical-align: middle;\n    }\n\n    .dataframe tbody tr th {\n        vertical-align: top;\n    }\n\n    .dataframe thead th {\n        text-align: right;\n    }\n</style>\n<table border=\"1\" class=\"dataframe\">\n  <thead>\n    <tr style=\"text-align: right;\">\n      <th></th>\n      <th>quote.USD.percent_change_1h</th>\n      <th>quote.USD.percent_change_24h</th>\n      <th>quote.USD.percent_change_7d</th>\n      <th>quote.USD.percent_change_30d</th>\n      <th>quote.USD.percent_change_60d</th>\n      <th>quote.USD.percent_change_90d</th>\n    </tr>\n    <tr>\n      <th>name</th>\n      <th></th>\n      <th></th>\n      <th></th>\n      <th></th>\n      <th></th>\n      <th></th>\n    </tr>\n  </thead>\n  <tbody>\n    <tr>\n      <th>Bitcoin</th>\n      <td>0.060866</td>\n      <td>2.077694</td>\n      <td>-1.169541</td>\n      <td>-5.839647</td>\n      <td>-28.089743</td>\n      <td>-22.322186</td>\n    </tr>\n    <tr>\n      <th>Ethereum</th>\n      <td>0.459463</td>\n      <td>2.014182</td>\n      <td>-3.972286</td>\n      <td>-23.659843</td>\n      <td>-43.612423</td>\n      <td>-30.102656</td>\n    </tr>\n    <tr>\n      <th>Tether</th>\n      <td>0.008892</td>\n      <td>0.023389</td>\n      <td>0.021391</td>\n      <td>-0.061020</td>\n      <td>-0.094364</td>\n      <td>-0.104533</td>\n    </tr>\n    <tr>\n      <th>USD Coin</th>\n      <td>0.006646</td>\n      <td>0.011462</td>\n      <td>0.019577</td>\n      <td>0.026197</td>\n      <td>0.040642</td>\n      <td>0.069170</td>\n    </tr>\n    <tr>\n      <th>BNB</th>\n      <td>0.288144</td>\n      <td>3.877582</td>\n      <td>-4.766839</td>\n      <td>-9.884183</td>\n      <td>-30.860041</td>\n      <td>-20.181185</td>\n    </tr>\n    <tr>\n      <th>Cardano</th>\n      <td>0.652376</td>\n      <td>7.368791</td>\n      <td>14.390508</td>\n      <td>0.368373</td>\n      <td>-35.627558</td>\n      <td>-17.647782</td>\n    </tr>\n    <tr>\n      <th>XRP</th>\n      <td>0.454588</td>\n      <td>2.230352</td>\n      <td>-1.614569</td>\n      <td>-23.441696</td>\n      <td>-46.902162</td>\n      <td>-44.943706</td>\n    </tr>\n    <tr>\n      <th>Binance USD</th>\n      <td>-0.017253</td>\n      <td>-0.101141</td>\n      <td>0.024734</td>\n      <td>0.059308</td>\n      <td>0.032417</td>\n      <td>0.056730</td>\n    </tr>\n    <tr>\n      <th>Solana</th>\n      <td>0.574736</td>\n      <td>2.025101</td>\n      <td>-7.803697</td>\n      <td>-43.126470</td>\n      <td>-63.787973</td>\n      <td>-51.526001</td>\n    </tr>\n    <tr>\n      <th>Dogecoin</th>\n      <td>0.113616</td>\n      <td>0.158830</td>\n      <td>-5.133915</td>\n      <td>-29.810838</td>\n      <td>-44.007935</td>\n      <td>-31.533389</td>\n    </tr>\n    <tr>\n      <th>Polkadot</th>\n      <td>0.411691</td>\n      <td>0.698222</td>\n      <td>-9.604233</td>\n      <td>-20.749810</td>\n      <td>-53.238252</td>\n      <td>-45.971296</td>\n    </tr>\n    <tr>\n      <th>Wrapped Bitcoin</th>\n      <td>0.042350</td>\n      <td>2.230076</td>\n      <td>-0.974006</td>\n      <td>-5.653441</td>\n      <td>-28.074527</td>\n      <td>-22.146047</td>\n    </tr>\n    <tr>\n      <th>TRON</th>\n      <td>-0.321350</td>\n      <td>-0.359754</td>\n      <td>-9.047512</td>\n      <td>4.512224</td>\n      <td>29.072707</td>\n      <td>37.695409</td>\n    </tr>\n    <tr>\n      <th>Dai</th>\n      <td>0.012808</td>\n      <td>-0.006746</td>\n      <td>0.132098</td>\n      <td>0.106643</td>\n      <td>0.082212</td>\n      <td>0.063644</td>\n    </tr>\n    <tr>\n      <th>Avalanche</th>\n      <td>0.122245</td>\n      <td>1.156280</td>\n      <td>-1.537192</td>\n      <td>-48.019639</td>\n      <td>-70.269982</td>\n      <td>-66.246310</td>\n    </tr>\n  </tbody>\n</table>\n</div>"
     },
     "execution_count": 57,
     "metadata": {},
     "output_type": "execute_result"
    }
   ],
   "source": [
    "# Now let's look at the coin trends over time\n",
    "\n",
    "df3 = df.groupby('name', sort=False)[['quote.USD.percent_change_1h','quote.USD.percent_change_24h','quote.USD.percent_change_7d','quote.USD.percent_change_30d','quote.USD.percent_change_60d','quote.USD.percent_change_90d']].mean()\n",
    "df3"
   ],
   "metadata": {
    "collapsed": false,
    "pycharm": {
     "name": "#%%\n"
    }
   }
  },
  {
   "cell_type": "code",
   "execution_count": 58,
   "outputs": [
    {
     "data": {
      "text/plain": "name                                   \nBitcoin    quote.USD.percent_change_1h      0.060866\n           quote.USD.percent_change_24h     2.077694\n           quote.USD.percent_change_7d     -1.169541\n           quote.USD.percent_change_30d    -5.839647\n           quote.USD.percent_change_60d   -28.089743\n                                             ...    \nAvalanche  quote.USD.percent_change_24h     1.156280\n           quote.USD.percent_change_7d     -1.537192\n           quote.USD.percent_change_30d   -48.019639\n           quote.USD.percent_change_60d   -70.269982\n           quote.USD.percent_change_90d   -66.246310\nLength: 90, dtype: float64"
     },
     "execution_count": 58,
     "metadata": {},
     "output_type": "execute_result"
    }
   ],
   "source": [
    "df4 = df3.stack()\n",
    "df4"
   ],
   "metadata": {
    "collapsed": false,
    "pycharm": {
     "name": "#%%\n"
    }
   }
  },
  {
   "cell_type": "code",
   "execution_count": 60,
   "outputs": [
    {
     "data": {
      "text/plain": "                                           values\nname                                             \nBitcoin   quote.USD.percent_change_1h    0.060866\n          quote.USD.percent_change_24h   2.077694\n          quote.USD.percent_change_7d   -1.169541\n          quote.USD.percent_change_30d  -5.839647\n          quote.USD.percent_change_60d -28.089743\n...                                           ...\nAvalanche quote.USD.percent_change_24h   1.156280\n          quote.USD.percent_change_7d   -1.537192\n          quote.USD.percent_change_30d -48.019639\n          quote.USD.percent_change_60d -70.269982\n          quote.USD.percent_change_90d -66.246310\n\n[90 rows x 1 columns]",
      "text/html": "<div>\n<style scoped>\n    .dataframe tbody tr th:only-of-type {\n        vertical-align: middle;\n    }\n\n    .dataframe tbody tr th {\n        vertical-align: top;\n    }\n\n    .dataframe thead th {\n        text-align: right;\n    }\n</style>\n<table border=\"1\" class=\"dataframe\">\n  <thead>\n    <tr style=\"text-align: right;\">\n      <th></th>\n      <th></th>\n      <th>values</th>\n    </tr>\n    <tr>\n      <th>name</th>\n      <th></th>\n      <th></th>\n    </tr>\n  </thead>\n  <tbody>\n    <tr>\n      <th rowspan=\"5\" valign=\"top\">Bitcoin</th>\n      <th>quote.USD.percent_change_1h</th>\n      <td>0.060866</td>\n    </tr>\n    <tr>\n      <th>quote.USD.percent_change_24h</th>\n      <td>2.077694</td>\n    </tr>\n    <tr>\n      <th>quote.USD.percent_change_7d</th>\n      <td>-1.169541</td>\n    </tr>\n    <tr>\n      <th>quote.USD.percent_change_30d</th>\n      <td>-5.839647</td>\n    </tr>\n    <tr>\n      <th>quote.USD.percent_change_60d</th>\n      <td>-28.089743</td>\n    </tr>\n    <tr>\n      <th>...</th>\n      <th>...</th>\n      <td>...</td>\n    </tr>\n    <tr>\n      <th rowspan=\"5\" valign=\"top\">Avalanche</th>\n      <th>quote.USD.percent_change_24h</th>\n      <td>1.156280</td>\n    </tr>\n    <tr>\n      <th>quote.USD.percent_change_7d</th>\n      <td>-1.537192</td>\n    </tr>\n    <tr>\n      <th>quote.USD.percent_change_30d</th>\n      <td>-48.019639</td>\n    </tr>\n    <tr>\n      <th>quote.USD.percent_change_60d</th>\n      <td>-70.269982</td>\n    </tr>\n    <tr>\n      <th>quote.USD.percent_change_90d</th>\n      <td>-66.246310</td>\n    </tr>\n  </tbody>\n</table>\n<p>90 rows × 1 columns</p>\n</div>"
     },
     "execution_count": 60,
     "metadata": {},
     "output_type": "execute_result"
    }
   ],
   "source": [
    "df5 = df4.to_frame(name='values')\n",
    "df5"
   ],
   "metadata": {
    "collapsed": false,
    "pycharm": {
     "name": "#%%\n"
    }
   }
  },
  {
   "cell_type": "code",
   "execution_count": null,
   "outputs": [],
   "source": [
    "df5.count()"
   ],
   "metadata": {
    "collapsed": false,
    "pycharm": {
     "name": "#%%\n",
     "is_executing": true
    }
   }
  },
  {
   "cell_type": "code",
   "execution_count": null,
   "outputs": [],
   "source": [
    "index = pd.Index(range(90))\n",
    "index"
   ],
   "metadata": {
    "collapsed": false,
    "pycharm": {
     "name": "#%%\n",
     "is_executing": true
    }
   }
  },
  {
   "cell_type": "code",
   "execution_count": null,
   "outputs": [],
   "source": [
    "df6 = df5.reset_index()\n",
    "df6"
   ],
   "metadata": {
    "collapsed": false,
    "pycharm": {
     "name": "#%%\n",
     "is_executing": true
    }
   }
  },
  {
   "cell_type": "code",
   "execution_count": null,
   "outputs": [],
   "source": [
    "df7 = df6.rename(columns={'level_1': 'percent_change'})\n",
    "df7"
   ],
   "metadata": {
    "collapsed": false,
    "pycharm": {
     "name": "#%%\n",
     "is_executing": true
    }
   }
  },
  {
   "cell_type": "code",
   "execution_count": null,
   "outputs": [],
   "source": [
    "df7['percent_change'] = df7['percent_change'].replace(['quote.USD.percent_change_24h','quote.USD.percent_change_7d','quote.USD.percent_change_30d','quote.USD.percent_change_60d','quote.USD.percent_change_90d'],['24h','7d','30d','60d','90d'])\n",
    "df7"
   ],
   "metadata": {
    "collapsed": false,
    "pycharm": {
     "name": "#%%\n",
     "is_executing": true
    }
   }
  },
  {
   "cell_type": "code",
   "execution_count": 65,
   "outputs": [],
   "source": [
    "import seaborn as sns\n",
    "import matplotlib.pyplot as plt"
   ],
   "metadata": {
    "collapsed": false,
    "pycharm": {
     "name": "#%%\n"
    }
   }
  },
  {
   "cell_type": "code",
   "execution_count": 66,
   "outputs": [
    {
     "data": {
      "text/plain": "<seaborn.axisgrid.FacetGrid at 0x1f0b9c36670>"
     },
     "execution_count": 66,
     "metadata": {},
     "output_type": "execute_result"
    },
    {
     "data": {
      "text/plain": "<Figure size 480.35x360 with 1 Axes>",
      "image/png": "[encoded data removed]"
     },
     "metadata": {},
     "output_type": "display_data"
    }
   ],
   "source": [
    "sns.catplot(x='percent_change', y='values', hue='name', data=df7, kind='point')"
   ],
   "metadata": {
    "collapsed": false,
    "pycharm": {
     "name": "#%%\n"
    }
   }
  },
  {
   "cell_type": "code",
   "execution_count": null,
   "outputs": [],
   "source": [
    "df10 = df[['name','quote.USD.price','timestamp']]\n",
    "df10 = df10.query(\"name == 'Bitcoin'\")\n",
    "df10"
   ],
   "metadata": {
    "collapsed": false,
    "pycharm": {
     "name": "#%%\n",
     "is_executing": true
    }
   }
  },
  {
   "cell_type": "code",
   "execution_count": null,
   "outputs": [],
   "source": [
    "sns.set_theme(style=\"darkgrid\")\n",
    "\n",
    "sns.lineplot(x='timestamp', y='quote.USD.price', data = df10)"
   ],
   "metadata": {
    "collapsed": false,
    "pycharm": {
     "name": "#%%\n",
     "is_executing": true
    }
   }
  },
  {
   "cell_type": "markdown",
   "source": [],
   "metadata": {
    "collapsed": false,
    "pycharm": {
     "name": "#%% md\n"
    }
   }
  }
 ],
 "metadata": {
  "kernelspec": {
   "display_name": "Python 3",
   "language": "python",
   "name": "python3"
  },
  "language_info": {
   "codemirror_mode": {
    "name": "ipython",
    "version": 2
   },
   "file_extension": ".py",
   "mimetype": "text/x-python",
   "name": "python",
   "nbconvert_exporter": "python",
   "pygments_lexer": "ipython2",
   "version": "2.7.6"
  }
 },
 "nbformat": 4,
 "nbformat_minor": 0
}